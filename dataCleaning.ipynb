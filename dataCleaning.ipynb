{
 "cells": [
  {
   "cell_type": "markdown",
   "metadata": {},
   "source": [
    "### Prelude:"
   ]
  },
  {
   "cell_type": "code",
   "execution_count": 1,
   "metadata": {},
   "outputs": [
    {
     "name": "stderr",
     "output_type": "stream",
     "text": [
      "/var/folders/ys/2yh_kw0938l96bcd357qq56w0000gn/T/ipykernel_31321/1662815981.py:2: DeprecationWarning: \n",
      "Pyarrow will become a required dependency of pandas in the next major release of pandas (pandas 3.0),\n",
      "(to allow more performant data types, such as the Arrow string type, and better interoperability with other libraries)\n",
      "but was not found to be installed on your system.\n",
      "If this would cause problems for you,\n",
      "please provide us feedback at https://github.com/pandas-dev/pandas/issues/54466\n",
      "        \n",
      "  import pandas as pd\n"
     ]
    }
   ],
   "source": [
    "import numpy as np\n",
    "import pandas as pd"
   ]
  },
  {
   "cell_type": "code",
   "execution_count": 2,
   "metadata": {},
   "outputs": [],
   "source": [
    "data = pd.read_csv(\"./../Datasets/SOSC 13300 Severson and Coleman Extension Survey_April 22, 2024_09.12.csv\", skiprows=[1, 2])\n"
   ]
  },
  {
   "cell_type": "markdown",
   "metadata": {},
   "source": [
    "### Data Cleaning:"
   ]
  },
  {
   "cell_type": "code",
   "execution_count": 3,
   "metadata": {},
   "outputs": [],
   "source": [
    "#drop rows where survey was not completed\n",
    "dataClean = data[data['Finished'] == True]\n",
    "\n",
    "#from Tiffanie's code\n",
    "dataClean = dataClean[['GasTax', 'CarbTax',\n",
    "       'Treaty', 'RegCarb', 'political_views', 'party_id', 'party_id.1',\n",
    "       'party_id.2', 'QID74', 'ScientificConfidence', 'RewardConsequence ',\n",
    "       'Attention_Check_1', 'Religiosity', 'Economic_Reasoning',\n",
    "       'Attention_Check_2', 'prosociality_1', 'prosociality_2',\n",
    "       'prosociality_3', 'prosociality_4', 'prosociality_5', 'prosociality_6',\n",
    "       'prosociality_7', 'prosociality_8', 'prosociality_9', 'GasTax_after',\n",
    "       'CarbTax_after', 'Treaty_after', 'RegCarb_after', 'treatment_value']]\n",
    "\n",
    "#drop rows where participant failed attention check\n",
    "dataClean = dataClean[(dataClean['Attention_Check_1'] == 'Strongly like') & (dataClean['Attention_Check_2'] == '1,3')]"
   ]
  },
  {
   "cell_type": "code",
   "execution_count": 4,
   "metadata": {},
   "outputs": [],
   "source": [
    "#making complete party_id number (merging party_id columns)\n",
    "\n",
    "#making columns into integers\n",
    "dataClean['QID74'] = dataClean['QID74'].replace(float('nan'), 0).astype(int)\n",
    "dataClean['party_id.1'] = dataClean['party_id.1'].replace(float('nan'), 0).astype(int)\n",
    "dataClean['party_id.2'] = dataClean['party_id.2'].replace(float('nan'), 0).astype(int)\n",
    "\n",
    "dataClean['party_id_merged'] = dataClean['QID74'] + dataClean['party_id.1'] + dataClean['party_id.2']"
   ]
  },
  {
   "cell_type": "code",
   "execution_count": 5,
   "metadata": {},
   "outputs": [],
   "source": [
    "#making average climate support column (mean of Gas Tax, Carbon Tax, and Renewable Energy)\n",
    "columns = ['GasTax', 'CarbTax', 'Treaty', 'RegCarb', 'GasTax_after', 'CarbTax_after', 'Treaty_after', 'RegCarb_after']\n",
    "for i in columns:\n",
    "    #ASSUMING 0 MEANS PREFER NOT TO ANSWER\n",
    "    dataClean[i] = dataClean[i].replace(float('nan'), 0).astype(int).replace(0, np.nan)\n",
    "\n",
    "\n",
    "dataClean['mean_climate_support_before'] = dataClean[['GasTax', 'CarbTax', 'Treaty', 'RegCarb']].mean(axis=1)\n",
    "dataClean['mean_climate_support_after'] = dataClean[['GasTax_after', 'CarbTax_after', 'Treaty_after', 'RegCarb_after']].mean(axis=1)\n",
    "dataClean['mean_climate_support_change'] = dataClean['mean_climate_support_after'] - dataClean['mean_climate_support_before']"
   ]
  },
  {
   "cell_type": "code",
   "execution_count": 6,
   "metadata": {},
   "outputs": [],
   "source": [
    "#Framing Column (from Tiffanie's code), need to check if these are right\n",
    "treatments = {0: \"No framing\",\n",
    "              1: \"Positive science\",\n",
    "              2: \"Negative science\",\n",
    "              3: \"Religious\",\n",
    "              4: \"Secular\",\n",
    "              5: \"Equity\",\n",
    "              6: \"Efficiency\"}\n",
    "dataClean[\"treatment_frame\"] = dataClean[\"treatment_value\"].map(treatments)"
   ]
  },
  {
   "cell_type": "code",
   "execution_count": 7,
   "metadata": {},
   "outputs": [],
   "source": [
    "#save cleaned data\n",
    "dataClean.to_csv('./../Datasets/cleaned_data.csv', index=False)"
   ]
  },
  {
   "cell_type": "markdown",
   "metadata": {},
   "source": [
    "### Questions about Data Collection:\n",
    "- What is the 0 value for the climate policy choices (no opinion?)\n",
    "- What are the different treatment effects/what do they correspond to?"
   ]
  }
 ],
 "metadata": {
  "kernelspec": {
   "display_name": "Python 3",
   "language": "python",
   "name": "python3"
  },
  "language_info": {
   "codemirror_mode": {
    "name": "ipython",
    "version": 3
   },
   "file_extension": ".py",
   "mimetype": "text/x-python",
   "name": "python",
   "nbconvert_exporter": "python",
   "pygments_lexer": "ipython3",
   "version": "3.9.6"
  }
 },
 "nbformat": 4,
 "nbformat_minor": 2
}
